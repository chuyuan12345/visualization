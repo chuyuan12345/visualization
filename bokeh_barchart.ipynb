{
 "cells": [
  {
   "cell_type": "code",
   "execution_count": 11,
   "metadata": {},
   "outputs": [],
   "source": [
    "from bokeh.io import output_file, show\n",
    "from bokeh.models import ColumnDataSource\n",
    "from bokeh.models import HoverTool\n",
    "from bokeh.plotting import figure"
   ]
  },
  {
   "cell_type": "code",
   "execution_count": 12,
   "metadata": {},
   "outputs": [],
   "source": [
    "# create sample data\n",
    "data = {'category': ['A', 'B', 'C', 'D'],\n",
    "        'value': [10, 20, 30, 40],\n",
    "        'Color': ['red', 'green', 'blue', 'orange']}\n",
    "df = pd.DataFrame(data)"
   ]
  },
  {
   "cell_type": "code",
   "execution_count": 15,
   "metadata": {},
   "outputs": [],
   "source": [
    "# create a ColumnDataSource object\n",
    "source = ColumnDataSource(data=data)\n",
    "\n",
    "# create a figure object\n",
    "p = figure(x_range=data['category'], plot_height=350, title=\"Vertical Bar Chart\")\n",
    "\n",
    "# add vbar glyph\n",
    "p.vbar(x='category', top='value', source=source, width=0.5)\n",
    "\n",
    "# set axis labels\n",
    "p.xaxis.axis_label = 'category'\n",
    "p.yaxis.axis_label = 'value'\n",
    "\n",
    "# Add hover tooltip\n",
    "hover = p.select(dict(type=HoverTool))\n",
    "hover.tooltips = [('Category', '@category'), ('Value', '@value')]\n",
    "\n",
    "# display the plot\n",
    "show(p)\n"
   ]
  },
  {
   "cell_type": "code",
   "execution_count": null,
   "metadata": {},
   "outputs": [],
   "source": []
  }
 ],
 "metadata": {
  "kernelspec": {
   "display_name": "Python 3",
   "language": "python",
   "name": "python3"
  },
  "language_info": {
   "codemirror_mode": {
    "name": "ipython",
    "version": 3
   },
   "file_extension": ".py",
   "mimetype": "text/x-python",
   "name": "python",
   "nbconvert_exporter": "python",
   "pygments_lexer": "ipython3",
   "version": "3.7.6"
  }
 },
 "nbformat": 4,
 "nbformat_minor": 4
}
