{
 "cells": [
  {
   "cell_type": "code",
   "execution_count": 1,
   "metadata": {},
   "outputs": [],
   "source": [
    "from bokeh.plotting import figure, output_file, show\n",
    "from bokeh.models import HoverTool\n",
    "import pandas as pd"
   ]
  },
  {
   "cell_type": "code",
   "execution_count": 8,
   "metadata": {},
   "outputs": [],
   "source": [
    "# create sample data\n",
    "data = {'x': [10, 15, 25, 50],\n",
    "        'y': [10, 20, 30, 40],\n",
    "        'size': [20,33,10,27],\n",
    "        'color': ['red', 'blue', 'blue', 'yellow']}\n",
    "df = pd.DataFrame(data)"
   ]
  },
  {
   "cell_type": "code",
   "execution_count": 9,
   "metadata": {},
   "outputs": [],
   "source": [
    "# Create figure\n",
    "p = figure(title='Interactive Scatter Plot', x_axis_label='X-axis', y_axis_label='Y-axis', tools='hover,pan,box_zoom,reset')\n",
    "\n",
    "# Add scatter plot\n",
    "p.circle(x=df['x'], y=df['y'], size=df['size'], line_color=df['color'], fill_color=df['color'])\n",
    "\n",
    "# Add hover tooltip\n",
    "hover = p.select(dict(type=HoverTool))\n",
    "hover.tooltips = [('X', '@x'), ('Y', '@y')]\n",
    "\n",
    "# Show the plot\n",
    "show(p)"
   ]
  },
  {
   "cell_type": "code",
   "execution_count": null,
   "metadata": {},
   "outputs": [],
   "source": []
  },
  {
   "cell_type": "code",
   "execution_count": null,
   "metadata": {},
   "outputs": [],
   "source": []
  }
 ],
 "metadata": {
  "kernelspec": {
   "display_name": "Python 3",
   "language": "python",
   "name": "python3"
  },
  "language_info": {
   "codemirror_mode": {
    "name": "ipython",
    "version": 3
   },
   "file_extension": ".py",
   "mimetype": "text/x-python",
   "name": "python",
   "nbconvert_exporter": "python",
   "pygments_lexer": "ipython3",
   "version": "3.7.6"
  }
 },
 "nbformat": 4,
 "nbformat_minor": 4
}
